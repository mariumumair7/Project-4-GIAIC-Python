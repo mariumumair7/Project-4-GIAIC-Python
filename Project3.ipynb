{
  "nbformat": 4,
  "nbformat_minor": 0,
  "metadata": {
    "colab": {
      "provenance": [],
      "authorship_tag": "ABX9TyNScbqKbOyPWYqWG0SqOw3G",
      "include_colab_link": true
    },
    "kernelspec": {
      "name": "python3",
      "display_name": "Python 3"
    },
    "language_info": {
      "name": "python"
    }
  },
  "cells": [
    {
      "cell_type": "markdown",
      "metadata": {
        "id": "view-in-github",
        "colab_type": "text"
      },
      "source": [
        "<a href=\"https://colab.research.google.com/github/mariumumair7/Project-4-GIAIC-Python/blob/main/Project3.ipynb\" target=\"_parent\"><img src=\"https://colab.research.google.com/assets/colab-badge.svg\" alt=\"Open In Colab\"/></a>"
      ]
    },
    {
      "cell_type": "markdown",
      "source": [
        "*GUESS THE NUMBER GAME PYTHON PROJECT(USER)*\n"
      ],
      "metadata": {
        "id": "F2wzge1jUqgT"
      }
    },
    {
      "cell_type": "code",
      "source": [
        "import random\n",
        "\n",
        "def computer_guesses():\n",
        "    print(\"Think of a number between 1 and 100, and I'll try to guess it!\")\n",
        "    lower_bound = 1\n",
        "    upper_bound = 100\n",
        "    attempts = 0\n",
        "\n",
        "    while True:\n",
        "        if lower_bound > upper_bound:\n",
        "            print(\"Hmm, something went wrong. Did you change your number? 😅\")\n",
        "            break\n",
        "\n",
        "        guess = random.randint(lower_bound, upper_bound)\n",
        "        attempts += 1\n",
        "        print(f\"My guess is: {guess}\")\n",
        "\n",
        "        feedback = input(\"Is my guess (H)igh, (L)ow, or (C)orrect? \").strip().lower()\n",
        "\n",
        "        if feedback == \"h\":\n",
        "            upper_bound = guess - 1  # Adjust upper bound\n",
        "        elif feedback == \"l\":\n",
        "            lower_bound = guess + 1  # Adjust lower bound\n",
        "        elif feedback == \"c\":\n",
        "            print(f\"🎉 Yay! I guessed your number {guess} in {attempts} attempts.\")\n",
        "            break\n",
        "        else:\n",
        "            print(\"Invalid input! Please enter 'H' for high, 'L' for low, or 'C' for correct.\")\n",
        "\n",
        "if __name__ == \"__main__\":\n",
        "    computer_guesses()\n"
      ],
      "metadata": {
        "colab": {
          "base_uri": "https://localhost:8080/"
        },
        "id": "ZT7B3f4IU6uy",
        "outputId": "c5bcac0f-6cb9-4cc3-b948-a2e04d08b325"
      },
      "execution_count": null,
      "outputs": [
        {
          "output_type": "stream",
          "name": "stdout",
          "text": [
            "Think of a number between 1 and 100, and I'll try to guess it!\n",
            "My guess is: 16\n",
            "Is my guess (H)igh, (L)ow, or (C)orrect? L\n",
            "My guess is: 60\n",
            "Is my guess (H)igh, (L)ow, or (C)orrect? H\n",
            "My guess is: 18\n",
            "Is my guess (H)igh, (L)ow, or (C)orrect? C\n",
            "🎉 Yay! I guessed your number 18 in 3 attempts.\n"
          ]
        }
      ]
    }
  ]
}