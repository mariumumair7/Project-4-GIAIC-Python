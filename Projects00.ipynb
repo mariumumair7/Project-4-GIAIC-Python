{
  "nbformat": 4,
  "nbformat_minor": 0,
  "metadata": {
    "colab": {
      "provenance": [],
      "authorship_tag": "ABX9TyM400OxdQh7hADr9zksVRlm",
      "include_colab_link": true
    },
    "kernelspec": {
      "name": "python3",
      "display_name": "Python 3"
    },
    "language_info": {
      "name": "python"
    }
  },
  "cells": [
    {
      "cell_type": "markdown",
      "metadata": {
        "id": "view-in-github",
        "colab_type": "text"
      },
      "source": [
        "<a href=\"https://colab.research.google.com/github/mariumumair7/Project-4-GIAIC-Python/blob/main/Projects00.ipynb\" target=\"_parent\"><img src=\"https://colab.research.google.com/assets/colab-badge.svg\" alt=\"Open In Colab\"/></a>"
      ]
    },
    {
      "cell_type": "code",
      "execution_count": null,
      "metadata": {
        "colab": {
          "base_uri": "https://localhost:8080/"
        },
        "id": "a1Z82wt0opsi",
        "outputId": "f654b9bf-21e2-46a2-c904-4278d9cf7e6f"
      },
      "outputs": [
        {
          "output_type": "stream",
          "name": "stdout",
          "text": [
            "Enter first number: 22\n",
            "Enter second number: 15\n",
            "The sum of the two numbers is: 37\n",
            "The sum of the two numbers is: 37\n"
          ]
        }
      ],
      "source": [
        "def main():\n",
        "    num1 = int(input(\"Enter first number: \"))\n",
        "    num2 = int(input(\"Enter second number: \"))  # Removed incorrect type annotation\n",
        "    num3 = num1 + num2\n",
        "    print(\"The sum of the two numbers is: \" + str(num3))\n",
        "    print(f\"The sum of the two numbers is: {num3}\")\n",
        "\n",
        "if __name__ == '__main__':\n",
        "    main()\n"
      ]
    },
    {
      "cell_type": "code",
      "source": [
        "def main():\n",
        "    degrees_fahrenheit = (input(\"Enter the temperature in degrees Fahrenheit: \"))\n",
        "    degrees_celsius = (degrees_fahrenheit - 32) * 5.0 / 9.0\n",
        "    print(f\"\\033[1m{degrees_fahrenheit}\\033[0m degrees Fahrenheit is equal to \\033[1m{degrees_celsius}\\033[0m degrees Celsius.\")\n",
        "\n",
        "if __name__ == '__main__':\n",
        "    main()\n"
      ],
      "metadata": {
        "colab": {
          "base_uri": "https://localhost:8080/"
        },
        "id": "TN79hUr9sGqa",
        "outputId": "f9ba0056-53e0-455c-81a2-6e6c10aa3de6"
      },
      "execution_count": null,
      "outputs": [
        {
          "output_type": "stream",
          "name": "stdout",
          "text": [
            "Enter the temperature in degrees Fahrenheit: 76\n",
            "\u001b[1m76.0\u001b[0m degrees Fahrenheit is equal to \u001b[1m24.444444444444443\u001b[0m degrees Celsius.\n"
          ]
        }
      ]
    },
    {
      "cell_type": "code",
      "source": [
        "def main():\n",
        "    my_favourite = input(\"What is your favourite animal? \")\n",
        "\n",
        "    print(f\"My favourite animal is \\033[1m{my_favourite}\\033[0m.\")\n",
        "    print(f\"My favourite animal is \\033[3m{my_favourite}\\033[0m.\")\n",
        "\n",
        "if __name__ == '__main__':\n",
        "    main()\n"
      ],
      "metadata": {
        "colab": {
          "base_uri": "https://localhost:8080/"
        },
        "id": "VzRopC91qWqb",
        "outputId": "b0ead990-62ac-46cc-accc-884ea37efd21"
      },
      "execution_count": null,
      "outputs": [
        {
          "output_type": "stream",
          "name": "stdout",
          "text": [
            "What is your favourite animal? cat\n",
            "My favourite animal is \u001b[1mcat\u001b[0m.\n",
            "My favourite animal is \u001b[3mcat\u001b[0m.\n"
          ]
        }
      ]
    },
    {
      "cell_type": "code",
      "source": [
        "def main():\n",
        "    # Storing each person's age in variables\n",
        "    Anton = 21\n",
        "    Beth = Anton + 6\n",
        "    Chen = Beth + 20\n",
        "    Drew = Chen + Anton\n",
        "    Ethan = Chen\n",
        "\n",
        "    # Printing names and ages with bold formatting for ages\n",
        "    print(f\"Anton is \\033[1m{Anton}\\033[0m years old.\")\n",
        "    print(f\"Beth is \\033[1m{Beth}\\033[0m years old.\")\n",
        "    print(f\"Chen is \\033[1m{Chen}\\033[0m years old.\")\n",
        "    print(f\"Drew is \\033[1m{Drew}\\033[0m years old.\")\n",
        "    print(f\"Ethan is \\033[1m{Ethan}\\033[0m years old.\")\n",
        "\n",
        "if __name__ == '__main__':\n",
        "    main()\n"
      ],
      "metadata": {
        "colab": {
          "base_uri": "https://localhost:8080/"
        },
        "id": "XkzlkmOIpq6g",
        "outputId": "569420b8-6161-4b81-e77a-89e1cd7e4f02"
      },
      "execution_count": null,
      "outputs": [
        {
          "output_type": "stream",
          "name": "stdout",
          "text": [
            "Anton is \u001b[1m21\u001b[0m years old.\n",
            "Beth is \u001b[1m27\u001b[0m years old.\n",
            "Chen is \u001b[1m47\u001b[0m years old.\n",
            "Drew is \u001b[1m68\u001b[0m years old.\n",
            "Ethan is \u001b[1m47\u001b[0m years old.\n"
          ]
        }
      ]
    },
    {
      "cell_type": "code",
      "source": [
        "def main():\n",
        "    # Prompt the user to enter the lengths of each side of the triangle\n",
        "    side1 = float(input(\"What is the length of side 1? \"))\n",
        "    side2 = float(input(\"What is the length of side 2? \"))\n",
        "    side3 = float(input(\"What is the length of side 3? \"))\n",
        "\n",
        "    # Calculate the perimeter of the triangle\n",
        "    perimeter = side1 + side2 + side3\n",
        "\n",
        "    # Print the perimeter of the triangle\n",
        "    print(f\"The perimeter of the triangle is \\033[1m{perimeter}\\033[0m\")\n",
        "\n",
        "if __name__ == '__main__':\n",
        "    main()\n"
      ],
      "metadata": {
        "colab": {
          "base_uri": "https://localhost:8080/"
        },
        "id": "iWHT9aeNxNxq",
        "outputId": "ea9594e2-762f-4b6b-f0fe-8a18067ee5b9"
      },
      "execution_count": null,
      "outputs": [
        {
          "output_type": "stream",
          "name": "stdout",
          "text": [
            "What is the length of side 1? 3\n",
            "What is the length of side 2? 3\n",
            "What is the length of side 3? 3\n",
            "The perimeter of the triangle is \u001b[1m9.0\u001b[0m\n"
          ]
        },
        {
          "output_type": "execute_result",
          "data": {
            "text/plain": [
              "4"
            ]
          },
          "metadata": {},
          "execution_count": 27
        }
      ]
    },
    {
      "cell_type": "code",
      "source": [
        "def main():\n",
        "    # Ask the user for a number\n",
        "    number = float(input(\"Type a number: \"))\n",
        "\n",
        "    # Calculate the square of the number\n",
        "    square = number ** 2\n",
        "\n",
        "    # Print the square of the number\n",
        "    print(f\"\\033[1m{number}\\033[0m squared is \\033[3m{square}\\033[0m\")\n",
        "\n",
        "if __name__ == '__main__':\n",
        "    main()\n"
      ],
      "metadata": {
        "colab": {
          "base_uri": "https://localhost:8080/"
        },
        "id": "ikSFbf90x764",
        "outputId": "2b48da30-4ecd-425a-f10b-e6c8647e3d20"
      },
      "execution_count": null,
      "outputs": [
        {
          "output_type": "stream",
          "name": "stdout",
          "text": [
            "Type a number: 3\n",
            "\u001b[1m3.0\u001b[0m squared is \u001b[3m9.0\u001b[0m\n"
          ]
        }
      ]
    }
  ]
}