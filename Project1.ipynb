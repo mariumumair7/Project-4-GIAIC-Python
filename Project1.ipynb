{
  "nbformat": 4,
  "nbformat_minor": 0,
  "metadata": {
    "colab": {
      "provenance": [],
      "authorship_tag": "ABX9TyPltcqKmS0ewiF0a2TPxmAm",
      "include_colab_link": true
    },
    "kernelspec": {
      "name": "python3",
      "display_name": "Python 3"
    },
    "language_info": {
      "name": "python"
    }
  },
  "cells": [
    {
      "cell_type": "markdown",
      "metadata": {
        "id": "view-in-github",
        "colab_type": "text"
      },
      "source": [
        "<a href=\"https://colab.research.google.com/github/mariumumair7/Project-4-GIAIC-Python/blob/main/Project1.ipynb\" target=\"_parent\"><img src=\"https://colab.research.google.com/assets/colab-badge.svg\" alt=\"Open In Colab\"/></a>"
      ]
    },
    {
      "cell_type": "markdown",
      "source": [
        "*Mad Libs Python Project*"
      ],
      "metadata": {
        "id": "q2YtJAxCmBAQ"
      }
    },
    {
      "cell_type": "code",
      "source": [
        "def mad_libs():\n",
        "    # Collect input\n",
        "    adjective1 = input(\"Enter an adjective: \")\n",
        "    noun1 = input(\"Enter a noun: \")\n",
        "    verb1 = input(\"Enter a verb (past tense): \")\n",
        "    verb2 = input(\"Enter a verb: \")\n",
        "    adverb1 = input(\"Enter an adverb: \")\n",
        "    adjective2 = input(\"Enter an adjective: \")\n",
        "    noun2 = input(\"Enter a noun (plural): \")\n",
        "\n",
        "    # Create the story\n",
        "    print(f\"\"\"This is the story of The {adjective1} {noun1}.\n",
        "Once upon a time a {adjective1} {noun1} was very {verb1} to take admission in University.\n",
        "It was a very {adjective2} day, so the {noun1} decided to {verb2}. She was a very {adverb1} girl.\n",
        "Her friend {noun2} was also with {noun1}.\"\"\")\n",
        "\n",
        "if __name__ == \"__main__\":\n",
        "    mad_libs()\n"
      ],
      "metadata": {
        "id": "21_kpSTZS_mE"
      },
      "execution_count": null,
      "outputs": []
    }
  ]
}