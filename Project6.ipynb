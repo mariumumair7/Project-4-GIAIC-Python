{
  "nbformat": 4,
  "nbformat_minor": 0,
  "metadata": {
    "colab": {
      "provenance": [],
      "authorship_tag": "ABX9TyMcHZxdxqOF80EqzHrkTL6u",
      "include_colab_link": true
    },
    "kernelspec": {
      "name": "python3",
      "display_name": "Python 3"
    },
    "language_info": {
      "name": "python"
    }
  },
  "cells": [
    {
      "cell_type": "markdown",
      "metadata": {
        "id": "view-in-github",
        "colab_type": "text"
      },
      "source": [
        "<a href=\"https://colab.research.google.com/github/mariumumair7/Project-4-GIAIC-Python/blob/main/Project6.ipynb\" target=\"_parent\"><img src=\"https://colab.research.google.com/assets/colab-badge.svg\" alt=\"Open In Colab\"/></a>"
      ]
    },
    {
      "cell_type": "markdown",
      "source": [
        "\n",
        "\n",
        "**Countdown Timer Project**"
      ],
      "metadata": {
        "id": "eRhKd0adK7Ws"
      }
    },
    {
      "cell_type": "code",
      "source": [
        "import time\n",
        "\n",
        "def countdown(t):\n",
        "    while t:\n",
        "      mins, secs= divmod(t, 60)\n",
        "      timer = '{:02d}:{:02d}'.format(mins,secs)\n",
        "      print(timer, end='  ')\n",
        "      time.sleep(1)\n",
        "      t -= 1\n",
        "\n",
        "    print(\"Timer Completed!\")\n",
        "\n",
        "t = input(\"Enter the time in seconds: \")\n",
        "\n",
        "countdown(int(t))"
      ],
      "metadata": {
        "colab": {
          "base_uri": "https://localhost:8080/"
        },
        "id": "6WL8Y2O7LI-z",
        "outputId": "4f3399ad-7708-4134-a3ae-9d0fe4b40e22"
      },
      "execution_count": null,
      "outputs": [
        {
          "output_type": "stream",
          "name": "stdout",
          "text": [
            "Enter the time in seconds: 5\n",
            "00:05  00:04  00:03  00:02  00:01  Timer Completed!\n"
          ]
        }
      ]
    }
  ]
}