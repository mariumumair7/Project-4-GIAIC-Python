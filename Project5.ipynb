{
  "nbformat": 4,
  "nbformat_minor": 0,
  "metadata": {
    "colab": {
      "provenance": [],
      "authorship_tag": "ABX9TyMeInnLjXNsMZxBd0irbnI2",
      "include_colab_link": true
    },
    "kernelspec": {
      "name": "python3",
      "display_name": "Python 3"
    },
    "language_info": {
      "name": "python"
    }
  },
  "cells": [
    {
      "cell_type": "markdown",
      "metadata": {
        "id": "view-in-github",
        "colab_type": "text"
      },
      "source": [
        "<a href=\"https://colab.research.google.com/github/mariumumair7/Project-4-GIAIC-Python/blob/main/Project5.ipynb\" target=\"_parent\"><img src=\"https://colab.research.google.com/assets/colab-badge.svg\" alt=\"Open In Colab\"/></a>"
      ]
    },
    {
      "cell_type": "markdown",
      "source": [
        "*Hangman Python Project*\n"
      ],
      "metadata": {
        "id": "h6jKDmH6X7WH"
      }
    },
    {
      "cell_type": "code",
      "source": [
        "import random\n",
        "import string\n",
        "\n",
        "def get_random_word():\n",
        "    words = [\"python\", \"hangman\", \"programming\", \"developer\", \"keyboard\", \"algorithm\"]\n",
        "    return random.choice(words)\n",
        "\n",
        "def display_word(word, guessed_letters):\n",
        "    return \" \".join([letter if letter in guessed_letters else \"_\" for letter in word])\n",
        "\n",
        "def play_hangman():\n",
        "    print(\"Welcome to Hangman! 🎩💀\")\n",
        "    word = get_random_word()\n",
        "    guessed_letters = set()\n",
        "    attempts = 6  # Number of allowed incorrect guesses\n",
        "\n",
        "    while attempts > 0:\n",
        "        print(\"\\nWord:\", display_word(word, guessed_letters))\n",
        "        print(f\"Remaining attempts: {attempts}\")\n",
        "        print(f\"Guessed letters: {', '.join(sorted(guessed_letters)) if guessed_letters else 'None'}\")\n",
        "\n",
        "        guess = input(\"Guess a letter: \").lower().strip()\n",
        "\n",
        "        if len(guess) != 1 or guess not in string.ascii_lowercase:\n",
        "            print(\"❌ Invalid input! Please enter a single letter.\")\n",
        "            continue\n",
        "\n",
        "        if guess in guessed_letters:\n",
        "            print(\"⚠️ You already guessed that letter!\")\n",
        "            continue\n",
        "\n",
        "        guessed_letters.add(guess)\n",
        "\n",
        "        if guess in word:\n",
        "            print(\"✅ Correct!\")\n",
        "            if all(letter in guessed_letters for letter in word):\n",
        "                print(f\"🎉 Congratulations! You guessed the word: {word}\")\n",
        "                break\n",
        "        else:\n",
        "            print(\"❌ Incorrect guess!\")\n",
        "            attempts -= 1\n",
        "\n",
        "    if attempts == 0:\n",
        "        print(f\"💀 Game Over! The word was: {word}\")\n",
        "\n",
        "if __name__ == \"__main__\":\n",
        "    play_hangman()\n"
      ],
      "metadata": {
        "id": "4OdrF1JsYK4p"
      },
      "execution_count": null,
      "outputs": []
    }
  ]
}