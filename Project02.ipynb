{
  "nbformat": 4,
  "nbformat_minor": 0,
  "metadata": {
    "colab": {
      "provenance": [],
      "authorship_tag": "ABX9TyO2sFRbn03sGr1mpnXPJ6Ou",
      "include_colab_link": true
    },
    "kernelspec": {
      "name": "python3",
      "display_name": "Python 3"
    },
    "language_info": {
      "name": "python"
    }
  },
  "cells": [
    {
      "cell_type": "markdown",
      "metadata": {
        "id": "view-in-github",
        "colab_type": "text"
      },
      "source": [
        "<a href=\"https://colab.research.google.com/github/mariumumair7/Project-4-GIAIC-Python/blob/main/Project02.ipynb\" target=\"_parent\"><img src=\"https://colab.research.google.com/assets/colab-badge.svg\" alt=\"Open In Colab\"/></a>"
      ]
    },
    {
      "cell_type": "code",
      "execution_count": null,
      "metadata": {
        "colab": {
          "base_uri": "https://localhost:8080/"
        },
        "id": "Odk6AsN3H1hw",
        "outputId": "9ed64d27-176e-47c0-926f-b1f892736eed"
      },
      "outputs": [
        {
          "output_type": "stream",
          "name": "stdout",
          "text": [
            "15\n"
          ]
        }
      ],
      "source": [
        "def sum_list(numbers):\n",
        "  \"\"\"\n",
        "  This function takes a list of numbers and returns the sum of those numbers.\n",
        "  \"\"\"\n",
        "  total = 0\n",
        "  for number in numbers:\n",
        "    total += number\n",
        "  return total\n",
        "\n",
        "def main():\n",
        "  numbers : int = [1, 2, 3, 4, 5]\n",
        "  print(sum_list(numbers))\n",
        "\n",
        "if __name__ == \"__main__\":\n",
        "  main()"
      ]
    },
    {
      "cell_type": "code",
      "source": [
        "def main():\n",
        "    numbers : int = [1, 2, 3, 4, 5]\n",
        "    double_numbers = [number * 2 for number in numbers]\n",
        "    print(double_numbers)\n",
        "\n",
        "if __name__ == \"__main__\":\n",
        "    main()\n"
      ],
      "metadata": {
        "colab": {
          "base_uri": "https://localhost:8080/"
        },
        "id": "MAOXQkvAJl0g",
        "outputId": "49b19e73-245a-4d2e-8fed-b3e4858f8cee"
      },
      "execution_count": null,
      "outputs": [
        {
          "output_type": "stream",
          "name": "stdout",
          "text": [
            "[2, 4, 6, 8, 10]\n"
          ]
        }
      ]
    },
    {
      "cell_type": "code",
      "source": [
        "import tkinter as tk\n",
        "\n",
        "CANVAS_WIDTH = 400\n",
        "CANVAS_HEIGHT = 400\n",
        "CELL_SIZE = 40\n",
        "ERASER_SIZE = 20\n",
        "\n",
        "def erase_objects(canvas, eraser):\n",
        "    \"\"\"Erase objects in contact with the eraser.\"\"\"\n",
        "    mouse_x = canvas.winfo_pointerx() - canvas.winfo_rootx()\n",
        "    mouse_y = canvas.winfo_pointery() - canvas.winfo_rooty()\n",
        "\n",
        "    # Constrain mouse movement within canvas boundaries\n",
        "    mouse_x = max(0, min(mouse_x, CANVAS_WIDTH - ERASER_SIZE))\n",
        "    mouse_y = max(0, min(mouse_y, CANVAS_HEIGHT - ERASER_SIZE))\n",
        "\n",
        "    left_x = mouse_x\n",
        "    top_y = mouse_y\n",
        "    right_x = left_x + ERASER_SIZE\n",
        "    bottom_y = top_y + ERASER_SIZE\n",
        "\n",
        "    # Find and erase overlapping objects\n",
        "    overlapping = canvas.find_overlapping(left_x, top_y, right_x, bottom_y)\n",
        "    for obj in overlapping:\n",
        "        if obj != eraser:\n",
        "            canvas.itemconfig(obj, fill='white')\n",
        "\n",
        "    return mouse_x, mouse_y\n",
        "\n",
        "def reset_grid(canvas):\n",
        "    \"\"\"Reset the grid to its original state.\"\"\"\n",
        "    for item in canvas.find_all():\n",
        "        canvas.itemconfig(item, fill='blue')\n",
        "\n",
        "def main():\n",
        "    root = tk.Tk()\n",
        "    root.title(\"Eraser Canvas\")\n",
        "    canvas = tk.Canvas(root, width=CANVAS_WIDTH, height=CANVAS_HEIGHT, bg=\"white\")\n",
        "    canvas.pack()\n",
        "\n",
        "    # Create grid of squares\n",
        "    num_rows = CANVAS_HEIGHT // CELL_SIZE\n",
        "    num_cols = CANVAS_WIDTH // CELL_SIZE\n",
        "    for row in range(num_rows):\n",
        "        for col in range(num_cols):\n",
        "            left_x = col * CELL_SIZE\n",
        "            top_y = row * CELL_SIZE\n",
        "            right_x = left_x + CELL_SIZE\n",
        "            bottom_y = top_y + CELL_SIZE\n",
        "            canvas.create_rectangle(left_x, top_y, right_x, bottom_y, fill='blue')\n",
        "\n",
        "    # Create eraser\n",
        "    eraser = canvas.create_rectangle(0, 0, ERASER_SIZE, ERASER_SIZE, fill='pink')\n",
        "\n",
        "    def move_eraser():\n",
        "        \"\"\"Move the eraser with the mouse.\"\"\"\n",
        "        mouse_x, mouse_y = erase_objects(canvas, eraser)\n",
        "        canvas.coords(eraser, mouse_x, mouse_y, mouse_x + ERASER_SIZE, mouse_y + ERASER_SIZE)\n",
        "        root.after(50, move_eraser)\n",
        "\n",
        "    def change_eraser_size(event):\n",
        "        \"\"\"Increase or decrease the eraser size.\"\"\"\n",
        "        global ERASER_SIZE\n",
        "        if event.keysym == \"Up\":\n",
        "            ERASER_SIZE += 5\n",
        "        elif event.keysym == \"Down\":\n",
        "            ERASER_SIZE = max(5, ERASER_SIZE - 5)\n",
        "\n",
        "    # Add reset button\n",
        "    reset_button = tk.Button(root, text=\"Reset\", command=lambda: reset_grid(canvas))\n",
        "    reset_button.pack()\n",
        "\n",
        "    # Bind keys for eraser size adjustment\n",
        "    root.bind(\"<Up>\", change_eraser_size)\n",
        "    root.bind(\"<Down>\", change_eraser_size)\n",
        "\n",
        "    # Start eraser movement\n",
        "    root.after(50, move_eraser)\n",
        "    root.mainloop()\n",
        "\n",
        "if __name__ == \"__main__\":\n",
        "    main()\n"
      ],
      "metadata": {
        "colab": {
          "base_uri": "https://localhost:8080/",
          "height": 335
        },
        "id": "CP8OXDdfLjO7",
        "outputId": "0e17ebf5-aa0a-4fe4-96bd-72f83996b35a"
      },
      "execution_count": null,
      "outputs": [
        {
          "output_type": "error",
          "ename": "TclError",
          "evalue": "no display name and no $DISPLAY environment variable",
          "traceback": [
            "\u001b[0;31m---------------------------------------------------------------------------\u001b[0m",
            "\u001b[0;31mTclError\u001b[0m                                  Traceback (most recent call last)",
            "\u001b[0;32m<ipython-input-12-94eeb546df7d>\u001b[0m in \u001b[0;36m<cell line: 0>\u001b[0;34m()\u001b[0m\n\u001b[1;32m     80\u001b[0m \u001b[0;34m\u001b[0m\u001b[0m\n\u001b[1;32m     81\u001b[0m \u001b[0;32mif\u001b[0m \u001b[0m__name__\u001b[0m \u001b[0;34m==\u001b[0m \u001b[0;34m\"__main__\"\u001b[0m\u001b[0;34m:\u001b[0m\u001b[0;34m\u001b[0m\u001b[0;34m\u001b[0m\u001b[0m\n\u001b[0;32m---> 82\u001b[0;31m     \u001b[0mmain\u001b[0m\u001b[0;34m(\u001b[0m\u001b[0;34m)\u001b[0m\u001b[0;34m\u001b[0m\u001b[0;34m\u001b[0m\u001b[0m\n\u001b[0m",
            "\u001b[0;32m<ipython-input-12-94eeb546df7d>\u001b[0m in \u001b[0;36mmain\u001b[0;34m()\u001b[0m\n\u001b[1;32m     34\u001b[0m \u001b[0;34m\u001b[0m\u001b[0m\n\u001b[1;32m     35\u001b[0m \u001b[0;32mdef\u001b[0m \u001b[0mmain\u001b[0m\u001b[0;34m(\u001b[0m\u001b[0;34m)\u001b[0m\u001b[0;34m:\u001b[0m\u001b[0;34m\u001b[0m\u001b[0;34m\u001b[0m\u001b[0m\n\u001b[0;32m---> 36\u001b[0;31m     \u001b[0mroot\u001b[0m \u001b[0;34m=\u001b[0m \u001b[0mtk\u001b[0m\u001b[0;34m.\u001b[0m\u001b[0mTk\u001b[0m\u001b[0;34m(\u001b[0m\u001b[0;34m)\u001b[0m\u001b[0;34m\u001b[0m\u001b[0;34m\u001b[0m\u001b[0m\n\u001b[0m\u001b[1;32m     37\u001b[0m     \u001b[0mroot\u001b[0m\u001b[0;34m.\u001b[0m\u001b[0mtitle\u001b[0m\u001b[0;34m(\u001b[0m\u001b[0;34m\"Eraser Canvas\"\u001b[0m\u001b[0;34m)\u001b[0m\u001b[0;34m\u001b[0m\u001b[0;34m\u001b[0m\u001b[0m\n\u001b[1;32m     38\u001b[0m     \u001b[0mcanvas\u001b[0m \u001b[0;34m=\u001b[0m \u001b[0mtk\u001b[0m\u001b[0;34m.\u001b[0m\u001b[0mCanvas\u001b[0m\u001b[0;34m(\u001b[0m\u001b[0mroot\u001b[0m\u001b[0;34m,\u001b[0m \u001b[0mwidth\u001b[0m\u001b[0;34m=\u001b[0m\u001b[0mCANVAS_WIDTH\u001b[0m\u001b[0;34m,\u001b[0m \u001b[0mheight\u001b[0m\u001b[0;34m=\u001b[0m\u001b[0mCANVAS_HEIGHT\u001b[0m\u001b[0;34m,\u001b[0m \u001b[0mbg\u001b[0m\u001b[0;34m=\u001b[0m\u001b[0;34m\"white\"\u001b[0m\u001b[0;34m)\u001b[0m\u001b[0;34m\u001b[0m\u001b[0;34m\u001b[0m\u001b[0m\n",
            "\u001b[0;32m/usr/lib/python3.11/tkinter/__init__.py\u001b[0m in \u001b[0;36m__init__\u001b[0;34m(self, screenName, baseName, className, useTk, sync, use)\u001b[0m\n\u001b[1;32m   2324\u001b[0m                 \u001b[0mbaseName\u001b[0m \u001b[0;34m=\u001b[0m \u001b[0mbaseName\u001b[0m \u001b[0;34m+\u001b[0m \u001b[0mext\u001b[0m\u001b[0;34m\u001b[0m\u001b[0;34m\u001b[0m\u001b[0m\n\u001b[1;32m   2325\u001b[0m         \u001b[0minteractive\u001b[0m \u001b[0;34m=\u001b[0m \u001b[0;32mFalse\u001b[0m\u001b[0;34m\u001b[0m\u001b[0;34m\u001b[0m\u001b[0m\n\u001b[0;32m-> 2326\u001b[0;31m         \u001b[0mself\u001b[0m\u001b[0;34m.\u001b[0m\u001b[0mtk\u001b[0m \u001b[0;34m=\u001b[0m \u001b[0m_tkinter\u001b[0m\u001b[0;34m.\u001b[0m\u001b[0mcreate\u001b[0m\u001b[0;34m(\u001b[0m\u001b[0mscreenName\u001b[0m\u001b[0;34m,\u001b[0m \u001b[0mbaseName\u001b[0m\u001b[0;34m,\u001b[0m \u001b[0mclassName\u001b[0m\u001b[0;34m,\u001b[0m \u001b[0minteractive\u001b[0m\u001b[0;34m,\u001b[0m \u001b[0mwantobjects\u001b[0m\u001b[0;34m,\u001b[0m \u001b[0museTk\u001b[0m\u001b[0;34m,\u001b[0m \u001b[0msync\u001b[0m\u001b[0;34m,\u001b[0m \u001b[0muse\u001b[0m\u001b[0;34m)\u001b[0m\u001b[0;34m\u001b[0m\u001b[0;34m\u001b[0m\u001b[0m\n\u001b[0m\u001b[1;32m   2327\u001b[0m         \u001b[0;32mif\u001b[0m \u001b[0museTk\u001b[0m\u001b[0;34m:\u001b[0m\u001b[0;34m\u001b[0m\u001b[0;34m\u001b[0m\u001b[0m\n\u001b[1;32m   2328\u001b[0m             \u001b[0mself\u001b[0m\u001b[0;34m.\u001b[0m\u001b[0m_loadtk\u001b[0m\u001b[0;34m(\u001b[0m\u001b[0;34m)\u001b[0m\u001b[0;34m\u001b[0m\u001b[0;34m\u001b[0m\u001b[0m\n",
            "\u001b[0;31mTclError\u001b[0m: no display name and no $DISPLAY environment variable"
          ]
        }
      ]
    },
    {
      "cell_type": "code",
      "source": [
        "def add_three_copies(data_list, data):\n",
        "    \"\"\"Add three copies of data to the provided list.\"\"\"\n",
        "    data_list.append(data)\n",
        "    data_list.append(data)\n",
        "    data_list.append(data)\n",
        "\n",
        "def main():\n",
        "    message = input(\"Enter a message to copy: \")\n",
        "\n",
        "    # Create an empty list\n",
        "    data_list = []\n",
        "\n",
        "    # Print the list before modification\n",
        "    print(\"List before:\", data_list)\n",
        "\n",
        "    # Add three copies of the user's message to the list\n",
        "    add_three_copies(data_list, message)\n",
        "\n",
        "    # Print the list after modification\n",
        "    print(\"\\033[1mList after:\", data_list, \"\\033[0m\")\n",
        "\n",
        "if __name__ == \"__main__\":\n",
        "    main()\n"
      ],
      "metadata": {
        "colab": {
          "base_uri": "https://localhost:8080/"
        },
        "id": "B-GtXnmaPOKt",
        "outputId": "c5e7dc8b-4611-4ea2-c143-1887f2bf79fa"
      },
      "execution_count": null,
      "outputs": [
        {
          "output_type": "stream",
          "name": "stdout",
          "text": [
            "Enter a message to copy: mmmmmm\n",
            "List before: []\n",
            "\u001b[1mList after: ['mmmmmm', 'mmmmmm', 'mmmmmm'] \u001b[0m\n"
          ]
        }
      ]
    },
    {
      "cell_type": "code",
      "source": [
        "def get_first_element(lst):\n",
        "    \"\"\"Print the first element of the list.\"\"\"\n",
        "    print(lst[0])\n",
        "\n",
        "def main():\n",
        "    num_elements = int(input(\"Enter the number of elements in the list: \"))\n",
        "\n",
        "    # Create an empty list\n",
        "    lst = []\n",
        "\n",
        "    # Get the elements from the user\n",
        "    for _ in range(num_elements):\n",
        "        element = input(\"Enter an element: \")\n",
        "        lst.append(element)\n",
        "\n",
        "    # Call the function to print the first element\n",
        "    get_first_element(lst)\n",
        "\n",
        "if __name__ == \"__main__\":\n",
        "    main()\n"
      ],
      "metadata": {
        "colab": {
          "base_uri": "https://localhost:8080/"
        },
        "id": "_eYQcZACPN7p",
        "outputId": "04618069-eb29-4de2-8f43-03c61380629b"
      },
      "execution_count": null,
      "outputs": [
        {
          "output_type": "stream",
          "name": "stdout",
          "text": [
            "Enter the number of elements in the list: 5\n",
            "Enter an element: 4\n",
            "Enter an element: 5\n",
            "Enter an element: 6\n",
            "Enter an element: 6\n",
            "Enter an element: 5\n",
            "4\n"
          ]
        }
      ]
    },
    {
      "cell_type": "code",
      "source": [
        "def get_last_element(lst):\n",
        "    \"\"\"Print the last element of the list.\"\"\"\n",
        "    print(lst[len(lst) - 1])\n",
        "\n",
        "def main():\n",
        "    num_elements = int(input(\"Enter the number of elements in the list: \"))\n",
        "\n",
        "    # Create an empty list\n",
        "    lst = []\n",
        "\n",
        "    # Get the elements from the user\n",
        "    for _ in range(num_elements):\n",
        "        element = input(\"Enter an element: \")\n",
        "        lst.append(element)\n",
        "\n",
        "    # Call the function to print the last element\n",
        "    get_last_element(lst)\n",
        "\n",
        "if __name__ == \"__main__\":\n",
        "    main()\n"
      ],
      "metadata": {
        "id": "SRC7cYzPRqOl"
      },
      "execution_count": null,
      "outputs": []
    },
    {
      "cell_type": "code",
      "source": [
        "def main():\n",
        "    # Create an empty list to store values\n",
        "    lst = []\n",
        "\n",
        "    while True:\n",
        "        value = input(\"Enter a value: \")\n",
        "\n",
        "        if value == \"\":\n",
        "            print(\"Here's the list:\", lst)\n",
        "            break\n",
        "        else:\n",
        "            lst.append(value)\n",
        "\n",
        "if __name__ == \"__main__\":\n",
        "    main()\n"
      ],
      "metadata": {
        "id": "Z_eZcznPSbjj"
      },
      "execution_count": null,
      "outputs": []
    },
    {
      "cell_type": "code",
      "source": [
        "MAX_LENGTH = 3\n",
        "\n",
        "def shorten(lst):\n",
        "    while len(lst) > MAX_LENGTH:\n",
        "        removed_item = lst.pop()  # Remove the last item from the list\n",
        "        print(removed_item)  # Print the item that was removed\n",
        "\n",
        "def main():\n",
        "    lst = input(\"Enter a list of values (comma-separated): \").split(\",\")\n",
        "\n",
        "    # Call the shorten function with the list\n",
        "    shorten(lst)\n",
        "\n",
        "if __name__ == \"__main__\":\n",
        "    main()\n"
      ],
      "metadata": {
        "id": "1XhhbXGxTI55"
      },
      "execution_count": null,
      "outputs": []
    },
    {
      "cell_type": "code",
      "source": [
        "MAX_LENGTH : int = 3\n",
        "\n",
        "def shorten(lst):\n",
        "    while len(lst) > MAX_LENGTH:\n",
        "        last_elem = lst.pop()\n",
        "        print(last_elem)\n",
        "\n",
        "def get_lst():\n",
        "    \"\"\"\n",
        "    Prompts the user to enter one element of the list at a time and returns the resulting list.\n",
        "    \"\"\"\n",
        "    lst = []\n",
        "    elem = input(\"Please enter an element of the list or press enter to stop. \")\n",
        "    while elem != \"\":\n",
        "        lst.append(elem)\n",
        "        elem = input(\"Please enter an element of the list or press enter to stop. \")\n",
        "    return lst\n",
        "\n",
        "def main():\n",
        "    lst = get_lst()\n",
        "    shorten(lst)\n",
        "\n",
        "\n",
        "if __name__ == '__main__':\n",
        "    main()"
      ],
      "metadata": {
        "id": "25lW0jIvTdl5"
      },
      "execution_count": null,
      "outputs": []
    }
  ]
}