{
  "nbformat": 4,
  "nbformat_minor": 0,
  "metadata": {
    "colab": {
      "provenance": [],
      "authorship_tag": "ABX9TyMXGu650GJsIukhep7sXK7M",
      "include_colab_link": true
    },
    "kernelspec": {
      "name": "python3",
      "display_name": "Python 3"
    },
    "language_info": {
      "name": "python"
    }
  },
  "cells": [
    {
      "cell_type": "markdown",
      "metadata": {
        "id": "view-in-github",
        "colab_type": "text"
      },
      "source": [
        "<a href=\"https://colab.research.google.com/github/mariumumair7/Project-4-GIAIC-Python/blob/main/Project7.ipynb\" target=\"_parent\"><img src=\"https://colab.research.google.com/assets/colab-badge.svg\" alt=\"Open In Colab\"/></a>"
      ]
    },
    {
      "cell_type": "markdown",
      "source": [
        "**Password Generator Project**"
      ],
      "metadata": {
        "id": "Uk-DxRamO4bH"
      }
    },
    {
      "cell_type": "code",
      "source": [
        "import random\n",
        "\n",
        "print(\"Welcome to Password Generator\")\n",
        "chars = \"abcdefghijklmnopqrstuvwxyzABCDEFGHIJKLMNOPQRSTUVWXYZ!@#$%^&*()1234567890\"\n",
        "number = input(\"How many passwords do you want to generate?\")\n",
        "number = int(number)\n",
        "\n",
        "Length = input(\"Input your password Length? \")\n",
        "Length = int(Length)\n",
        "\n",
        "print(\"\\nHere are your passwords:\")\n",
        "\n",
        "for pwd in range(number):\n",
        "  passwords = \"\"\n",
        "  for c in range (Length):\n",
        "    passwords += random.choice(chars)\n",
        "\n",
        "  print(passwords)"
      ],
      "metadata": {
        "colab": {
          "base_uri": "https://localhost:8080/"
        },
        "id": "uLRaake7PzIe",
        "outputId": "8ba93d40-39c3-432b-d593-9de637dc5822"
      },
      "execution_count": null,
      "outputs": [
        {
          "output_type": "stream",
          "name": "stdout",
          "text": [
            "Welcome to Password Generator\n",
            "How many passwords do you want to generate?2\n",
            "Input your password Length? 4\n",
            "\n",
            "Here are your passwords:\n",
            "%Z&J\n",
            "1Ewz\n"
          ]
        }
      ]
    }
  ]
}